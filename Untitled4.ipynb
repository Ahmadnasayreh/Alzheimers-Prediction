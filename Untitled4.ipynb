{
 "cells": [
  {
   "cell_type": "markdown",
   "id": "5cc6ab77",
   "metadata": {},
   "source": [
    "# Import libraries"
   ]
  },
  {
   "cell_type": "code",
   "execution_count": 115,
   "id": "5732fdb2",
   "metadata": {},
   "outputs": [],
   "source": [
    "import numpy as np\n",
    "import sklearn as sk\n",
    "import pandas as pd\n",
    "import os\n",
    "from sklearn.linear_model import LogisticRegression\n",
    "from sklearn.ensemble import RandomForestClassifier\n",
    "from sklearn.neighbors import KNeighborsClassifier\n",
    "from sklearn.neural_network import MLPClassifier\n",
    "\n",
    "from sklearn.model_selection import cross_val_score"
   ]
  },
  {
   "cell_type": "code",
   "execution_count": 116,
   "id": "4d35dcba",
   "metadata": {},
   "outputs": [],
   "source": [
    "#Read data\n",
    "dat = pd.read_csv(\"ADNI_Training_Q3_APOE_CollectionADNI1Complete 1Yr 1.5T_July22.2014.csv\")\n",
    "#Check NA values, 1 NA for imputed_genotype\n",
    "# dat.isnull().sum()"
   ]
  },
  {
   "cell_type": "markdown",
   "id": "7fa4d528",
   "metadata": {},
   "source": [
    "# Remove NA\n"
   ]
  },
  {
   "cell_type": "markdown",
   "id": "4fe0d0d4",
   "metadata": {},
   "source": [
    "dat = dat.dropna()\n",
    "dat.isnull().sum().sum()\n"
   ]
  },
  {
   "cell_type": "code",
   "execution_count": 117,
   "id": "36bd1fdd",
   "metadata": {},
   "outputs": [
    {
     "data": {
      "text/html": [
       "<div>\n",
       "<style scoped>\n",
       "    .dataframe tbody tr th:only-of-type {\n",
       "        vertical-align: middle;\n",
       "    }\n",
       "\n",
       "    .dataframe tbody tr th {\n",
       "        vertical-align: top;\n",
       "    }\n",
       "\n",
       "    .dataframe thead th {\n",
       "        text-align: right;\n",
       "    }\n",
       "</style>\n",
       "<table border=\"1\" class=\"dataframe\">\n",
       "  <thead>\n",
       "    <tr style=\"text-align: right;\">\n",
       "      <th></th>\n",
       "      <th>directory.id</th>\n",
       "      <th>Subject</th>\n",
       "      <th>RID</th>\n",
       "      <th>Image.Data.ID</th>\n",
       "      <th>Modality</th>\n",
       "      <th>Visit</th>\n",
       "      <th>Acq.Date</th>\n",
       "      <th>DX.bl</th>\n",
       "      <th>EXAMDATE</th>\n",
       "      <th>AGE</th>\n",
       "      <th>PTGENDER</th>\n",
       "      <th>PTEDUCAT</th>\n",
       "      <th>PTETHCAT</th>\n",
       "      <th>PTRACCAT</th>\n",
       "      <th>APOE4</th>\n",
       "      <th>MMSE</th>\n",
       "      <th>imputed_genotype</th>\n",
       "      <th>APOE Genotype</th>\n",
       "      <th>Dx Codes for Submission</th>\n",
       "    </tr>\n",
       "  </thead>\n",
       "  <tbody>\n",
       "    <tr>\n",
       "      <th>0</th>\n",
       "      <td>4702245ea294ce5d4e9b8a87027dfdf4</td>\n",
       "      <td>011_S_0003</td>\n",
       "      <td>3</td>\n",
       "      <td>32237</td>\n",
       "      <td>MRI</td>\n",
       "      <td>1</td>\n",
       "      <td>9/1/05</td>\n",
       "      <td>AD</td>\n",
       "      <td>9/12/05</td>\n",
       "      <td>81.3</td>\n",
       "      <td>Male</td>\n",
       "      <td>18</td>\n",
       "      <td>Not Hisp/Latino</td>\n",
       "      <td>White</td>\n",
       "      <td>1</td>\n",
       "      <td>20</td>\n",
       "      <td>True</td>\n",
       "      <td>3,4</td>\n",
       "      <td>AD</td>\n",
       "    </tr>\n",
       "    <tr>\n",
       "      <th>1</th>\n",
       "      <td>2e89e352af743597b2368c412e0f6de2</td>\n",
       "      <td>022_S_0004</td>\n",
       "      <td>4</td>\n",
       "      <td>64631</td>\n",
       "      <td>MRI</td>\n",
       "      <td>1</td>\n",
       "      <td>9/22/05</td>\n",
       "      <td>LMCI</td>\n",
       "      <td>11/8/05</td>\n",
       "      <td>67.5</td>\n",
       "      <td>Male</td>\n",
       "      <td>10</td>\n",
       "      <td>Hisp/Latino</td>\n",
       "      <td>White</td>\n",
       "      <td>0</td>\n",
       "      <td>27</td>\n",
       "      <td>False</td>\n",
       "      <td>3,3</td>\n",
       "      <td>MCI</td>\n",
       "    </tr>\n",
       "    <tr>\n",
       "      <th>2</th>\n",
       "      <td>90419199306997753de8042f1fd55e38</td>\n",
       "      <td>011_S_0005</td>\n",
       "      <td>5</td>\n",
       "      <td>32246</td>\n",
       "      <td>MRI</td>\n",
       "      <td>1</td>\n",
       "      <td>9/2/05</td>\n",
       "      <td>CN</td>\n",
       "      <td>9/7/05</td>\n",
       "      <td>73.7</td>\n",
       "      <td>Male</td>\n",
       "      <td>16</td>\n",
       "      <td>Not Hisp/Latino</td>\n",
       "      <td>White</td>\n",
       "      <td>0</td>\n",
       "      <td>29</td>\n",
       "      <td>True</td>\n",
       "      <td>3,3</td>\n",
       "      <td>CN</td>\n",
       "    </tr>\n",
       "    <tr>\n",
       "      <th>3</th>\n",
       "      <td>d8d175ffff1e2053e6a18c5df494ccdf</td>\n",
       "      <td>100_S_0006</td>\n",
       "      <td>6</td>\n",
       "      <td>33025</td>\n",
       "      <td>MRI</td>\n",
       "      <td>1</td>\n",
       "      <td>11/15/05</td>\n",
       "      <td>LMCI</td>\n",
       "      <td>11/29/05</td>\n",
       "      <td>80.4</td>\n",
       "      <td>Female</td>\n",
       "      <td>13</td>\n",
       "      <td>Not Hisp/Latino</td>\n",
       "      <td>White</td>\n",
       "      <td>0</td>\n",
       "      <td>25</td>\n",
       "      <td>True</td>\n",
       "      <td>3,3</td>\n",
       "      <td>MCI</td>\n",
       "    </tr>\n",
       "    <tr>\n",
       "      <th>4</th>\n",
       "      <td>986e75b2e604cd44b38feb2188476fb2</td>\n",
       "      <td>011_S_0010</td>\n",
       "      <td>10</td>\n",
       "      <td>32270</td>\n",
       "      <td>MRI</td>\n",
       "      <td>1</td>\n",
       "      <td>11/7/05</td>\n",
       "      <td>AD</td>\n",
       "      <td>11/10/05</td>\n",
       "      <td>73.9</td>\n",
       "      <td>Female</td>\n",
       "      <td>12</td>\n",
       "      <td>Not Hisp/Latino</td>\n",
       "      <td>White</td>\n",
       "      <td>1</td>\n",
       "      <td>24</td>\n",
       "      <td>True</td>\n",
       "      <td>3,4</td>\n",
       "      <td>AD</td>\n",
       "    </tr>\n",
       "  </tbody>\n",
       "</table>\n",
       "</div>"
      ],
      "text/plain": [
       "                       directory.id     Subject  RID  Image.Data.ID Modality  \\\n",
       "0  4702245ea294ce5d4e9b8a87027dfdf4  011_S_0003    3          32237      MRI   \n",
       "1  2e89e352af743597b2368c412e0f6de2  022_S_0004    4          64631      MRI   \n",
       "2  90419199306997753de8042f1fd55e38  011_S_0005    5          32246      MRI   \n",
       "3  d8d175ffff1e2053e6a18c5df494ccdf  100_S_0006    6          33025      MRI   \n",
       "4  986e75b2e604cd44b38feb2188476fb2  011_S_0010   10          32270      MRI   \n",
       "\n",
       "   Visit  Acq.Date DX.bl  EXAMDATE   AGE PTGENDER  PTEDUCAT         PTETHCAT  \\\n",
       "0      1    9/1/05    AD   9/12/05  81.3     Male        18  Not Hisp/Latino   \n",
       "1      1   9/22/05  LMCI   11/8/05  67.5     Male        10      Hisp/Latino   \n",
       "2      1    9/2/05    CN    9/7/05  73.7     Male        16  Not Hisp/Latino   \n",
       "3      1  11/15/05  LMCI  11/29/05  80.4   Female        13  Not Hisp/Latino   \n",
       "4      1   11/7/05    AD  11/10/05  73.9   Female        12  Not Hisp/Latino   \n",
       "\n",
       "  PTRACCAT  APOE4  MMSE imputed_genotype APOE Genotype Dx Codes for Submission  \n",
       "0    White      1    20             True           3,4                      AD  \n",
       "1    White      0    27            False           3,3                     MCI  \n",
       "2    White      0    29             True           3,3                      CN  \n",
       "3    White      0    25             True           3,3                     MCI  \n",
       "4    White      1    24             True           3,4                      AD  "
      ]
     },
     "execution_count": 117,
     "metadata": {},
     "output_type": "execute_result"
    }
   ],
   "source": [
    "#Peek at data\n",
    "dat.head(5)"
   ]
  },
  {
   "cell_type": "markdown",
   "id": "4b2d9ce7",
   "metadata": {},
   "source": [
    "# Remove ID's and other features\n"
   ]
  },
  {
   "cell_type": "code",
   "execution_count": 118,
   "id": "512a1965",
   "metadata": {},
   "outputs": [
    {
     "name": "stdout",
     "output_type": "stream",
     "text": [
      "Removing columns: ['directory.id', 'Subject', 'RID', 'Image.Data.ID', 'Modality', 'Visit', 'Acq.Date', 'DX.bl', 'EXAMDATE', 'Dx Codes for Submission']\n"
     ]
    },
    {
     "data": {
      "text/html": [
       "<div>\n",
       "<style scoped>\n",
       "    .dataframe tbody tr th:only-of-type {\n",
       "        vertical-align: middle;\n",
       "    }\n",
       "\n",
       "    .dataframe tbody tr th {\n",
       "        vertical-align: top;\n",
       "    }\n",
       "\n",
       "    .dataframe thead th {\n",
       "        text-align: right;\n",
       "    }\n",
       "</style>\n",
       "<table border=\"1\" class=\"dataframe\">\n",
       "  <thead>\n",
       "    <tr style=\"text-align: right;\">\n",
       "      <th></th>\n",
       "      <th>AGE</th>\n",
       "      <th>PTGENDER</th>\n",
       "      <th>PTEDUCAT</th>\n",
       "      <th>PTETHCAT</th>\n",
       "      <th>PTRACCAT</th>\n",
       "      <th>APOE4</th>\n",
       "      <th>MMSE</th>\n",
       "      <th>imputed_genotype</th>\n",
       "      <th>APOE Genotype</th>\n",
       "    </tr>\n",
       "  </thead>\n",
       "  <tbody>\n",
       "    <tr>\n",
       "      <th>0</th>\n",
       "      <td>81.3</td>\n",
       "      <td>Male</td>\n",
       "      <td>18</td>\n",
       "      <td>Not Hisp/Latino</td>\n",
       "      <td>White</td>\n",
       "      <td>1</td>\n",
       "      <td>20</td>\n",
       "      <td>True</td>\n",
       "      <td>3,4</td>\n",
       "    </tr>\n",
       "    <tr>\n",
       "      <th>1</th>\n",
       "      <td>67.5</td>\n",
       "      <td>Male</td>\n",
       "      <td>10</td>\n",
       "      <td>Hisp/Latino</td>\n",
       "      <td>White</td>\n",
       "      <td>0</td>\n",
       "      <td>27</td>\n",
       "      <td>False</td>\n",
       "      <td>3,3</td>\n",
       "    </tr>\n",
       "    <tr>\n",
       "      <th>2</th>\n",
       "      <td>73.7</td>\n",
       "      <td>Male</td>\n",
       "      <td>16</td>\n",
       "      <td>Not Hisp/Latino</td>\n",
       "      <td>White</td>\n",
       "      <td>0</td>\n",
       "      <td>29</td>\n",
       "      <td>True</td>\n",
       "      <td>3,3</td>\n",
       "    </tr>\n",
       "    <tr>\n",
       "      <th>3</th>\n",
       "      <td>80.4</td>\n",
       "      <td>Female</td>\n",
       "      <td>13</td>\n",
       "      <td>Not Hisp/Latino</td>\n",
       "      <td>White</td>\n",
       "      <td>0</td>\n",
       "      <td>25</td>\n",
       "      <td>True</td>\n",
       "      <td>3,3</td>\n",
       "    </tr>\n",
       "    <tr>\n",
       "      <th>4</th>\n",
       "      <td>73.9</td>\n",
       "      <td>Female</td>\n",
       "      <td>12</td>\n",
       "      <td>Not Hisp/Latino</td>\n",
       "      <td>White</td>\n",
       "      <td>1</td>\n",
       "      <td>24</td>\n",
       "      <td>True</td>\n",
       "      <td>3,4</td>\n",
       "    </tr>\n",
       "  </tbody>\n",
       "</table>\n",
       "</div>"
      ],
      "text/plain": [
       "    AGE PTGENDER  PTEDUCAT         PTETHCAT PTRACCAT  APOE4  MMSE  \\\n",
       "0  81.3     Male        18  Not Hisp/Latino    White      1    20   \n",
       "1  67.5     Male        10      Hisp/Latino    White      0    27   \n",
       "2  73.7     Male        16  Not Hisp/Latino    White      0    29   \n",
       "3  80.4   Female        13  Not Hisp/Latino    White      0    25   \n",
       "4  73.9   Female        12  Not Hisp/Latino    White      1    24   \n",
       "\n",
       "  imputed_genotype APOE Genotype  \n",
       "0             True           3,4  \n",
       "1            False           3,3  \n",
       "2             True           3,3  \n",
       "3             True           3,3  \n",
       "4             True           3,4  "
      ]
     },
     "execution_count": 118,
     "metadata": {},
     "output_type": "execute_result"
    }
   ],
   "source": [
    "X = dat\n",
    "Y = dat['DX.bl']\n",
    "del dat\n",
    "\n",
    "#Remove unnecessary columns (features), remove first 9 columns and 'Dx codes for submission'\n",
    "remove_columns = list(X.columns)[0:9]\n",
    "remove_columns.append('Dx Codes for Submission')\n",
    "print('Removing columns:', remove_columns)\n",
    "\n",
    "X = X.drop(remove_columns, axis=1)\n",
    "\n",
    "features = list(X.columns)\n",
    "X.head(5)"
   ]
  },
  {
   "cell_type": "markdown",
   "id": "b81fe06e",
   "metadata": {},
   "source": [
    "# Exploratory Data Analysis (EDA)\n",
    "\n"
   ]
  },
  {
   "cell_type": "code",
   "execution_count": 119,
   "id": "e44ad30a",
   "metadata": {},
   "outputs": [
    {
     "name": "stdout",
     "output_type": "stream",
     "text": [
      "Categorical variable distributions:\n",
      "\n",
      "\n",
      "Distribution of APOE Genotype\n",
      "3,3    276\n",
      "3,4    221\n",
      "4,4     71\n",
      "2,3     45\n",
      "2,4     13\n",
      "2,2      2\n",
      "Name: APOE Genotype, dtype: int64\n",
      "\n",
      "Distribution of PTETHCAT\n",
      "Not Hisp/Latino    617\n",
      "Hisp/Latino          8\n",
      "Unknown              3\n",
      "Name: PTETHCAT, dtype: int64\n",
      "\n",
      "Distribution of PTRACCAT\n",
      "White    584\n",
      "Black     31\n",
      "Asian     13\n",
      "Name: PTRACCAT, dtype: int64\n",
      "\n",
      "Distribution of APOE4\n",
      "0    323\n",
      "1    234\n",
      "2     71\n",
      "Name: APOE4, dtype: int64\n",
      "\n",
      "Distribution of imputed_genotype\n",
      "True     466\n",
      "False    161\n",
      "Name: imputed_genotype, dtype: int64\n",
      "\n",
      "Distribution of PTGENDER\n",
      "Male      364\n",
      "Female    264\n",
      "Name: PTGENDER, dtype: int64\n"
     ]
    }
   ],
   "source": [
    "numerical_vars = ['AGE', 'MMSE', 'PTEDUCAT']\n",
    "cat_vars = list(set(features) - set(numerical_vars))\n",
    "\n",
    "print('Categorical variable distributions:\\n')\n",
    "\n",
    "for var in cat_vars:\n",
    "    print('\\nDistribution of', var)\n",
    "    \n",
    "    print(X[var].value_counts())"
   ]
  },
  {
   "cell_type": "markdown",
   "id": "8206c9bf",
   "metadata": {},
   "source": [
    "# Numerical Variable Distributions\n"
   ]
  },
  {
   "cell_type": "code",
   "execution_count": 120,
   "id": "baa0b013",
   "metadata": {},
   "outputs": [
    {
     "name": "stdout",
     "output_type": "stream",
     "text": [
      "Numerical Var Distributions:\n",
      "\n"
     ]
    },
    {
     "data": {
      "image/png": "[encoded data removed]",
      "text/plain": [
       "<Figure size 432x288 with 1 Axes>"
      ]
     },
     "metadata": {
      "needs_background": "light"
     },
     "output_type": "display_data"
    },
    {
     "name": "stdout",
     "output_type": "stream",
     "text": [
      "count    628.000000\n",
      "mean      75.169586\n",
      "std        6.687429\n",
      "min       55.100000\n",
      "25%       71.200000\n",
      "50%       75.450000\n",
      "75%       80.000000\n",
      "max       89.600000\n",
      "Name: AGE, dtype: float64\n"
     ]
    },
    {
     "data": {
      "image/png": "[encoded data removed]",
      "text/plain": [
       "<Figure size 432x288 with 1 Axes>"
      ]
     },
     "metadata": {
      "needs_background": "light"
     },
     "output_type": "display_data"
    },
    {
     "name": "stdout",
     "output_type": "stream",
     "text": [
      "count    628.000000\n",
      "mean      26.920382\n",
      "std        2.562152\n",
      "min       20.000000\n",
      "25%       25.000000\n",
      "50%       27.000000\n",
      "75%       29.000000\n",
      "max       30.000000\n",
      "Name: MMSE, dtype: float64\n"
     ]
    },
    {
     "data": {
      "image/png": "[encoded data removed]",
      "text/plain": [
       "<Figure size 432x288 with 1 Axes>"
      ]
     },
     "metadata": {
      "needs_background": "light"
     },
     "output_type": "display_data"
    },
    {
     "name": "stdout",
     "output_type": "stream",
     "text": [
      "count    628.000000\n",
      "mean      15.616242\n",
      "std        2.977993\n",
      "min        6.000000\n",
      "25%       13.000000\n",
      "50%       16.000000\n",
      "75%       18.000000\n",
      "max       20.000000\n",
      "Name: PTEDUCAT, dtype: float64\n"
     ]
    }
   ],
   "source": [
    "from matplotlib import pyplot as plt\n",
    "%matplotlib inline\n",
    "\n",
    "print('Numerical Var Distributions:\\n')\n",
    "\n",
    "for var in numerical_vars:\n",
    "    plt.hist(X[var], bins=14)\n",
    "    plt.title(var + ' Distribution')\n",
    "    plt.show()\n",
    "    \n",
    "    # descriptive stats\n",
    "    print(X[var].describe())"
   ]
  },
  {
   "cell_type": "markdown",
   "id": "c552cb3b",
   "metadata": {},
   "source": [
    "# Analyze target (y) distribution\n"
   ]
  },
  {
   "cell_type": "code",
   "execution_count": 121,
   "id": "48bffcdc",
   "metadata": {},
   "outputs": [
    {
     "data": {
      "image/png": "[encoded data removed]",
      "text/plain": [
       "<Figure size 432x288 with 1 Axes>"
      ]
     },
     "metadata": {
      "needs_background": "light"
     },
     "output_type": "display_data"
    }
   ],
   "source": [
    "plt.bar(Y.value_counts().index, Y.value_counts())\n",
    "plt.show()"
   ]
  },
  {
   "cell_type": "markdown",
   "id": "82ba80b8",
   "metadata": {},
   "source": [
    "# Convert Categorical Variables to 1-Hot using sklearn.preprocessing.OneHotEncoder\n"
   ]
  },
  {
   "cell_type": "code",
   "execution_count": 122,
   "id": "ecfbadd1",
   "metadata": {},
   "outputs": [
    {
     "name": "stdout",
     "output_type": "stream",
     "text": [
      "Converting APOE Genotype to 1-hot encoding\n",
      "Converting PTETHCAT to 1-hot encoding\n",
      "Converting PTRACCAT to 1-hot encoding\n",
      "Converting APOE4 to 1-hot encoding\n",
      "Converting imputed_genotype to 1-hot encoding\n",
      "Converting PTGENDER to 1-hot encoding\n"
     ]
    },
    {
     "data": {
      "text/html": [
       "<div>\n",
       "<style scoped>\n",
       "    .dataframe tbody tr th:only-of-type {\n",
       "        vertical-align: middle;\n",
       "    }\n",
       "\n",
       "    .dataframe tbody tr th {\n",
       "        vertical-align: top;\n",
       "    }\n",
       "\n",
       "    .dataframe thead th {\n",
       "        text-align: right;\n",
       "    }\n",
       "</style>\n",
       "<table border=\"1\" class=\"dataframe\">\n",
       "  <thead>\n",
       "    <tr style=\"text-align: right;\">\n",
       "      <th></th>\n",
       "      <th>AGE</th>\n",
       "      <th>PTEDUCAT</th>\n",
       "      <th>MMSE</th>\n",
       "      <th>2,2</th>\n",
       "      <th>2,3</th>\n",
       "      <th>2,4</th>\n",
       "      <th>3,3</th>\n",
       "      <th>3,4</th>\n",
       "      <th>4,4</th>\n",
       "      <th>Hisp/Latino</th>\n",
       "      <th>...</th>\n",
       "      <th>Asian</th>\n",
       "      <th>Black</th>\n",
       "      <th>White</th>\n",
       "      <th>0</th>\n",
       "      <th>1</th>\n",
       "      <th>2</th>\n",
       "      <th>False</th>\n",
       "      <th>True</th>\n",
       "      <th>Female</th>\n",
       "      <th>Male</th>\n",
       "    </tr>\n",
       "  </thead>\n",
       "  <tbody>\n",
       "    <tr>\n",
       "      <th>0</th>\n",
       "      <td>81.3</td>\n",
       "      <td>18</td>\n",
       "      <td>20</td>\n",
       "      <td>0</td>\n",
       "      <td>0</td>\n",
       "      <td>0</td>\n",
       "      <td>0</td>\n",
       "      <td>1</td>\n",
       "      <td>0</td>\n",
       "      <td>0</td>\n",
       "      <td>...</td>\n",
       "      <td>0</td>\n",
       "      <td>0</td>\n",
       "      <td>1</td>\n",
       "      <td>0</td>\n",
       "      <td>1</td>\n",
       "      <td>0</td>\n",
       "      <td>0</td>\n",
       "      <td>1</td>\n",
       "      <td>0</td>\n",
       "      <td>1</td>\n",
       "    </tr>\n",
       "    <tr>\n",
       "      <th>1</th>\n",
       "      <td>67.5</td>\n",
       "      <td>10</td>\n",
       "      <td>27</td>\n",
       "      <td>0</td>\n",
       "      <td>0</td>\n",
       "      <td>0</td>\n",
       "      <td>1</td>\n",
       "      <td>0</td>\n",
       "      <td>0</td>\n",
       "      <td>1</td>\n",
       "      <td>...</td>\n",
       "      <td>0</td>\n",
       "      <td>0</td>\n",
       "      <td>1</td>\n",
       "      <td>1</td>\n",
       "      <td>0</td>\n",
       "      <td>0</td>\n",
       "      <td>1</td>\n",
       "      <td>0</td>\n",
       "      <td>0</td>\n",
       "      <td>1</td>\n",
       "    </tr>\n",
       "    <tr>\n",
       "      <th>2</th>\n",
       "      <td>73.7</td>\n",
       "      <td>16</td>\n",
       "      <td>29</td>\n",
       "      <td>0</td>\n",
       "      <td>0</td>\n",
       "      <td>0</td>\n",
       "      <td>1</td>\n",
       "      <td>0</td>\n",
       "      <td>0</td>\n",
       "      <td>0</td>\n",
       "      <td>...</td>\n",
       "      <td>0</td>\n",
       "      <td>0</td>\n",
       "      <td>1</td>\n",
       "      <td>1</td>\n",
       "      <td>0</td>\n",
       "      <td>0</td>\n",
       "      <td>0</td>\n",
       "      <td>1</td>\n",
       "      <td>0</td>\n",
       "      <td>1</td>\n",
       "    </tr>\n",
       "    <tr>\n",
       "      <th>3</th>\n",
       "      <td>80.4</td>\n",
       "      <td>13</td>\n",
       "      <td>25</td>\n",
       "      <td>0</td>\n",
       "      <td>0</td>\n",
       "      <td>0</td>\n",
       "      <td>1</td>\n",
       "      <td>0</td>\n",
       "      <td>0</td>\n",
       "      <td>0</td>\n",
       "      <td>...</td>\n",
       "      <td>0</td>\n",
       "      <td>0</td>\n",
       "      <td>1</td>\n",
       "      <td>1</td>\n",
       "      <td>0</td>\n",
       "      <td>0</td>\n",
       "      <td>0</td>\n",
       "      <td>1</td>\n",
       "      <td>1</td>\n",
       "      <td>0</td>\n",
       "    </tr>\n",
       "    <tr>\n",
       "      <th>4</th>\n",
       "      <td>73.9</td>\n",
       "      <td>12</td>\n",
       "      <td>24</td>\n",
       "      <td>0</td>\n",
       "      <td>0</td>\n",
       "      <td>0</td>\n",
       "      <td>0</td>\n",
       "      <td>1</td>\n",
       "      <td>0</td>\n",
       "      <td>0</td>\n",
       "      <td>...</td>\n",
       "      <td>0</td>\n",
       "      <td>0</td>\n",
       "      <td>1</td>\n",
       "      <td>0</td>\n",
       "      <td>1</td>\n",
       "      <td>0</td>\n",
       "      <td>0</td>\n",
       "      <td>1</td>\n",
       "      <td>1</td>\n",
       "      <td>0</td>\n",
       "    </tr>\n",
       "  </tbody>\n",
       "</table>\n",
       "<p>5 rows × 22 columns</p>\n",
       "</div>"
      ],
      "text/plain": [
       "    AGE  PTEDUCAT  MMSE  2,2  2,3  2,4  3,3  3,4  4,4  Hisp/Latino  ...  \\\n",
       "0  81.3        18    20    0    0    0    0    1    0            0  ...   \n",
       "1  67.5        10    27    0    0    0    1    0    0            1  ...   \n",
       "2  73.7        16    29    0    0    0    1    0    0            0  ...   \n",
       "3  80.4        13    25    0    0    0    1    0    0            0  ...   \n",
       "4  73.9        12    24    0    0    0    0    1    0            0  ...   \n",
       "\n",
       "   Asian  Black  White  0  1  2  False  True  Female  Male  \n",
       "0      0      0      1  0  1  0      0     1       0     1  \n",
       "1      0      0      1  1  0  0      1     0       0     1  \n",
       "2      0      0      1  1  0  0      0     1       0     1  \n",
       "3      0      0      1  1  0  0      0     1       1     0  \n",
       "4      0      0      1  0  1  0      0     1       1     0  \n",
       "\n",
       "[5 rows x 22 columns]"
      ]
     },
     "execution_count": 122,
     "metadata": {},
     "output_type": "execute_result"
    }
   ],
   "source": [
    "#for each categorical var, convert to 1-hot encoding\n",
    "for var in cat_vars:\n",
    "    print('Converting', var, 'to 1-hot encoding')\n",
    "    \n",
    "    #get 1-hot and replace original column with the >= 2 categories as columns\n",
    "    one_hot_df = pd.get_dummies(X[var])\n",
    "    X = pd.concat([X, one_hot_df], axis=1)\n",
    "    X = X.drop(var, axis=1)\n",
    "    \n",
    "X.head(5)"
   ]
  },
  {
   "cell_type": "markdown",
   "id": "6dfeaea2",
   "metadata": {},
   "source": [
    "# Normalization code (for neural network)\n"
   ]
  },
  {
   "cell_type": "code",
   "execution_count": 123,
   "id": "9bedf80d",
   "metadata": {},
   "outputs": [],
   "source": [
    "def normalize(X):\n",
    "    \"\"\"\n",
    "    Normalize numerical variables for faster and better convergence\n",
    "    \n",
    "    Args:\n",
    "        X (pd.DataFrame): data\n",
    "        \n",
    "    Returns:\n",
    "        X (numpy array): same data but with normalized numerical features\n",
    "    \"\"\"\n",
    "\n",
    "    #Convert to numpy array\n",
    "    X = np.array(X)\n",
    "    sanity_check = 0\n",
    "\n",
    "    #Normalize numerical variables to speed up convergence\n",
    "    for i in range(3):\n",
    "        mean = np.mean(X[:, i])\n",
    "        sd = np.std(X[:, i])\n",
    "        print('\\nNormalizing', numerical_vars[i], 'with mean=', format(mean, '.2f'), 'and sd=', format(sd, '.2f'))\n",
    "\n",
    "        X[:, i] = (X[:, i] - mean) / sd\n",
    "        sanity_check += np.mean(X[:, i])\n",
    "\n",
    "    print('\\nSanity Check. Sum of all the means should be near 0:', sanity_check)\n",
    "\n",
    "    return X"
   ]
  },
  {
   "cell_type": "markdown",
   "id": "3a7e012f",
   "metadata": {},
   "source": [
    "# Train/Test Split\n",
    " "
   ]
  },
  {
   "cell_type": "code",
   "execution_count": 124,
   "id": "ae3744f9",
   "metadata": {},
   "outputs": [
    {
     "name": "stdout",
     "output_type": "stream",
     "text": [
      "X_train: (502, 22) \ty_train: (502,)\n",
      "X_test: (126, 22) \ty_test: (126,)\n"
     ]
    }
   ],
   "source": [
    "from sklearn.model_selection import train_test_split\n",
    "\n",
    "X_train, X_test, y_train, y_test = train_test_split(X, Y, test_size=.2)\n",
    "\n",
    "print('X_train:', X_train.shape, '\\ty_train:', y_train.shape)\n",
    "print('X_test:', X_test.shape, '\\ty_test:', y_test.shape)\n",
    "num_test = X_test.shape[0]"
   ]
  },
  {
   "cell_type": "markdown",
   "id": "8223ef21",
   "metadata": {},
   "source": [
    "# Random Forest,Logistic Regression,KNN\n"
   ]
  },
  {
   "cell_type": "code",
   "execution_count": 125,
   "id": "794359be",
   "metadata": {},
   "outputs": [
    {
     "name": "stdout",
     "output_type": "stream",
     "text": [
      "Validation Accuracy =  69.72%\n"
     ]
    }
   ],
   "source": [
    "log_clf = LogisticRegression(solver='lbfgs', penalty='l2', max_iter=1000000, multi_class='multinomial')\n",
    "print('Validation Accuracy = ', format(cross_val_score(log_clf, X_train, y_train, cv=5).mean(), '.2%'))"
   ]
  },
  {
   "cell_type": "code",
   "execution_count": 126,
   "id": "ad2bdece",
   "metadata": {},
   "outputs": [
    {
     "name": "stdout",
     "output_type": "stream",
     "text": [
      "Validation Accuracy =  64.96%\n"
     ]
    }
   ],
   "source": [
    "rf_clf = RandomForestClassifier(n_estimators=200)\n",
    "print('Validation Accuracy = ', format(cross_val_score(rf_clf, X_train, y_train, cv=5).mean(), '.2%'))"
   ]
  },
  {
   "cell_type": "code",
   "execution_count": 127,
   "id": "791d4b2f",
   "metadata": {},
   "outputs": [
    {
     "name": "stdout",
     "output_type": "stream",
     "text": [
      "Validation Accuracy =  67.93%\n"
     ]
    }
   ],
   "source": [
    "knn_clf = KNeighborsClassifier(n_neighbors=10)\n",
    "print('Validation Accuracy = ', format(cross_val_score(knn_clf, X_train, y_train, cv=5).mean(), '.2%'))"
   ]
  },
  {
   "cell_type": "markdown",
   "id": "4f8de1c3",
   "metadata": {},
   "source": [
    "# Tangent: Evaluate feature importances given by Random Forest\n"
   ]
  },
  {
   "cell_type": "code",
   "execution_count": 128,
   "id": "82516c76",
   "metadata": {},
   "outputs": [
    {
     "data": {
      "text/plain": [
       "RandomForestClassifier(n_estimators=200)"
      ]
     },
     "execution_count": 128,
     "metadata": {},
     "output_type": "execute_result"
    }
   ],
   "source": [
    "rf_clf.fit(X_train, y_train)\n"
   ]
  },
  {
   "cell_type": "code",
   "execution_count": 129,
   "id": "47292931",
   "metadata": {},
   "outputs": [
    {
     "name": "stdout",
     "output_type": "stream",
     "text": [
      "          Importance\n",
      "MMSE        0.367384\n",
      "AGE         0.312294\n",
      "PTEDUCAT    0.146902\n",
      "Female      0.018296\n",
      "Male        0.018190\n",
      "0           0.015954\n",
      "True        0.015797\n",
      "False       0.015070\n",
      "3,3         0.011132\n",
      "3,4         0.010841\n"
     ]
    }
   ],
   "source": [
    "feature_importances = pd.DataFrame(rf_clf.feature_importances_, index=X_train.columns, \n",
    "                                   columns=['Importance']).sort_values('Importance', ascending=False)\n",
    "print(feature_importances[:10])"
   ]
  },
  {
   "cell_type": "markdown",
   "id": "33d52e82",
   "metadata": {},
   "source": [
    "# Test Logistic Regression Model and Random Forest\n"
   ]
  },
  {
   "cell_type": "code",
   "execution_count": 130,
   "id": "11eefe46",
   "metadata": {},
   "outputs": [
    {
     "name": "stdout",
     "output_type": "stream",
     "text": [
      "Test Accuracy = 75.40%\n"
     ]
    }
   ],
   "source": [
    "log_clf.fit(X_train, y_train)\n",
    "\n",
    "log_clf_preds = log_clf.predict(X_test)\n",
    "    \n",
    "log_clf_accuracy = (log_clf_preds == y_test)\n",
    "print('Test Accuracy =', format( np.sum(log_clf_accuracy)/num_test, '.2%'))"
   ]
  },
  {
   "cell_type": "code",
   "execution_count": 131,
   "id": "de03188d",
   "metadata": {},
   "outputs": [
    {
     "name": "stdout",
     "output_type": "stream",
     "text": [
      "Test Accuracy = 67.46%\n"
     ]
    }
   ],
   "source": [
    "rf_clf.fit(X_train, y_train)\n",
    "\n",
    "rf_clf_preds = rf_clf.predict(X_test)\n",
    "    \n",
    "rf_clf_accuracy = (rf_clf_preds == y_test)\n",
    "print('Test Accuracy =', format( np.sum(rf_clf_accuracy)/num_test, '.2%'))"
   ]
  },
  {
   "cell_type": "markdown",
   "id": "e0c5bec6",
   "metadata": {},
   "source": [
    "# Analyze misclassifications\n"
   ]
  },
  {
   "cell_type": "code",
   "execution_count": 132,
   "id": "4c8bef21",
   "metadata": {},
   "outputs": [
    {
     "data": {
      "text/html": [
       "<div>\n",
       "<style scoped>\n",
       "    .dataframe tbody tr th:only-of-type {\n",
       "        vertical-align: middle;\n",
       "    }\n",
       "\n",
       "    .dataframe tbody tr th {\n",
       "        vertical-align: top;\n",
       "    }\n",
       "\n",
       "    .dataframe thead th {\n",
       "        text-align: right;\n",
       "    }\n",
       "</style>\n",
       "<table border=\"1\" class=\"dataframe\">\n",
       "  <thead>\n",
       "    <tr style=\"text-align: right;\">\n",
       "      <th></th>\n",
       "      <th>AGE</th>\n",
       "      <th>PTEDUCAT</th>\n",
       "      <th>MMSE</th>\n",
       "      <th>2,2</th>\n",
       "      <th>2,3</th>\n",
       "      <th>2,4</th>\n",
       "      <th>3,3</th>\n",
       "      <th>3,4</th>\n",
       "      <th>4,4</th>\n",
       "      <th>Hisp/Latino</th>\n",
       "      <th>...</th>\n",
       "      <th>Asian</th>\n",
       "      <th>Black</th>\n",
       "      <th>White</th>\n",
       "      <th>0</th>\n",
       "      <th>1</th>\n",
       "      <th>2</th>\n",
       "      <th>False</th>\n",
       "      <th>True</th>\n",
       "      <th>Female</th>\n",
       "      <th>Male</th>\n",
       "    </tr>\n",
       "  </thead>\n",
       "  <tbody>\n",
       "    <tr>\n",
       "      <th>489</th>\n",
       "      <td>80.3</td>\n",
       "      <td>12</td>\n",
       "      <td>25</td>\n",
       "      <td>0</td>\n",
       "      <td>0</td>\n",
       "      <td>0</td>\n",
       "      <td>0</td>\n",
       "      <td>1</td>\n",
       "      <td>0</td>\n",
       "      <td>0</td>\n",
       "      <td>...</td>\n",
       "      <td>0</td>\n",
       "      <td>0</td>\n",
       "      <td>1</td>\n",
       "      <td>0</td>\n",
       "      <td>1</td>\n",
       "      <td>0</td>\n",
       "      <td>0</td>\n",
       "      <td>1</td>\n",
       "      <td>1</td>\n",
       "      <td>0</td>\n",
       "    </tr>\n",
       "    <tr>\n",
       "      <th>364</th>\n",
       "      <td>70.8</td>\n",
       "      <td>20</td>\n",
       "      <td>26</td>\n",
       "      <td>0</td>\n",
       "      <td>0</td>\n",
       "      <td>0</td>\n",
       "      <td>0</td>\n",
       "      <td>0</td>\n",
       "      <td>1</td>\n",
       "      <td>0</td>\n",
       "      <td>...</td>\n",
       "      <td>0</td>\n",
       "      <td>0</td>\n",
       "      <td>1</td>\n",
       "      <td>0</td>\n",
       "      <td>0</td>\n",
       "      <td>1</td>\n",
       "      <td>0</td>\n",
       "      <td>1</td>\n",
       "      <td>0</td>\n",
       "      <td>1</td>\n",
       "    </tr>\n",
       "    <tr>\n",
       "      <th>502</th>\n",
       "      <td>56.2</td>\n",
       "      <td>18</td>\n",
       "      <td>24</td>\n",
       "      <td>0</td>\n",
       "      <td>0</td>\n",
       "      <td>0</td>\n",
       "      <td>1</td>\n",
       "      <td>0</td>\n",
       "      <td>0</td>\n",
       "      <td>1</td>\n",
       "      <td>...</td>\n",
       "      <td>0</td>\n",
       "      <td>0</td>\n",
       "      <td>1</td>\n",
       "      <td>1</td>\n",
       "      <td>0</td>\n",
       "      <td>0</td>\n",
       "      <td>1</td>\n",
       "      <td>0</td>\n",
       "      <td>1</td>\n",
       "      <td>0</td>\n",
       "    </tr>\n",
       "    <tr>\n",
       "      <th>602</th>\n",
       "      <td>84.2</td>\n",
       "      <td>10</td>\n",
       "      <td>26</td>\n",
       "      <td>0</td>\n",
       "      <td>0</td>\n",
       "      <td>0</td>\n",
       "      <td>0</td>\n",
       "      <td>1</td>\n",
       "      <td>0</td>\n",
       "      <td>0</td>\n",
       "      <td>...</td>\n",
       "      <td>0</td>\n",
       "      <td>0</td>\n",
       "      <td>1</td>\n",
       "      <td>0</td>\n",
       "      <td>1</td>\n",
       "      <td>0</td>\n",
       "      <td>0</td>\n",
       "      <td>1</td>\n",
       "      <td>0</td>\n",
       "      <td>1</td>\n",
       "    </tr>\n",
       "    <tr>\n",
       "      <th>100</th>\n",
       "      <td>80.4</td>\n",
       "      <td>16</td>\n",
       "      <td>27</td>\n",
       "      <td>0</td>\n",
       "      <td>0</td>\n",
       "      <td>0</td>\n",
       "      <td>1</td>\n",
       "      <td>0</td>\n",
       "      <td>0</td>\n",
       "      <td>0</td>\n",
       "      <td>...</td>\n",
       "      <td>0</td>\n",
       "      <td>0</td>\n",
       "      <td>1</td>\n",
       "      <td>1</td>\n",
       "      <td>0</td>\n",
       "      <td>0</td>\n",
       "      <td>0</td>\n",
       "      <td>1</td>\n",
       "      <td>1</td>\n",
       "      <td>0</td>\n",
       "    </tr>\n",
       "  </tbody>\n",
       "</table>\n",
       "<p>5 rows × 22 columns</p>\n",
       "</div>"
      ],
      "text/plain": [
       "      AGE  PTEDUCAT  MMSE  2,2  2,3  2,4  3,3  3,4  4,4  Hisp/Latino  ...  \\\n",
       "489  80.3        12    25    0    0    0    0    1    0            0  ...   \n",
       "364  70.8        20    26    0    0    0    0    0    1            0  ...   \n",
       "502  56.2        18    24    0    0    0    1    0    0            1  ...   \n",
       "602  84.2        10    26    0    0    0    0    1    0            0  ...   \n",
       "100  80.4        16    27    0    0    0    1    0    0            0  ...   \n",
       "\n",
       "     Asian  Black  White  0  1  2  False  True  Female  Male  \n",
       "489      0      0      1  0  1  0      0     1       1     0  \n",
       "364      0      0      1  0  0  1      0     1       0     1  \n",
       "502      0      0      1  1  0  0      1     0       1     0  \n",
       "602      0      0      1  0  1  0      0     1       0     1  \n",
       "100      0      0      1  1  0  0      0     1       1     0  \n",
       "\n",
       "[5 rows x 22 columns]"
      ]
     },
     "execution_count": 132,
     "metadata": {},
     "output_type": "execute_result"
    }
   ],
   "source": [
    "misclassified_index = (log_clf_preds != y_test)\n",
    "\n",
    "X_misclassified = X_test[misclassified_index]\n",
    "y_misclassified = y_test[misclassified_index]\n",
    "preds_misclassified = log_clf_preds[misclassified_index]\n",
    "\n",
    "X_misclassified.head()"
   ]
  },
  {
   "cell_type": "code",
   "execution_count": 133,
   "id": "0d08b90e",
   "metadata": {},
   "outputs": [
    {
     "name": "stdout",
     "output_type": "stream",
     "text": [
      "Pred  Y\n",
      "-----------\n",
      "LMCI  AD\n",
      "LMCI  AD\n",
      "AD    LMCI\n",
      "LMCI  AD\n",
      "LMCI  CN\n",
      "CN    LMCI\n",
      "LMCI  CN\n",
      "LMCI  CN\n",
      "CN    LMCI\n",
      "CN    LMCI\n",
      "CN    LMCI\n",
      "LMCI  AD\n",
      "LMCI  CN\n",
      "LMCI  AD\n",
      "LMCI  AD\n",
      "LMCI  AD\n",
      "LMCI  AD\n",
      "LMCI  CN\n",
      "CN    LMCI\n",
      "AD    LMCI\n",
      "AD    LMCI\n",
      "LMCI  CN\n",
      "LMCI  CN\n",
      "LMCI  CN\n",
      "LMCI  CN\n",
      "LMCI  CN\n",
      "CN    LMCI\n",
      "LMCI  CN\n",
      "LMCI  AD\n",
      "LMCI  CN\n",
      "LMCI  CN\n"
     ]
    }
   ],
   "source": [
    "print('Pred'.ljust(5), 'Y')\n",
    "print('-----------')\n",
    "\n",
    "over_estimate = under_estimate = total_miss = 0\n",
    "for pred, y in zip(preds_misclassified, y_misclassified):\n",
    "    print(pred.ljust(5), y)\n",
    "    \n",
    "    if (y == 'CN' and pred == 'AD') or (y == 'AD' and pred == 'CN'):\n",
    "        total_miss += 1\n",
    "    \n",
    "    if y == 'CN':\n",
    "        over_estimate += 1\n",
    "        \n",
    "    elif y == 'AD':\n",
    "        under_estimate += 1\n",
    "    \n",
    "    # y is 'LMCI'\n",
    "    else:\n",
    "        if pred == 'CN':\n",
    "            under_estimate += 1\n",
    "        elif pred == 'AD':\n",
    "            over_estimate += 1"
   ]
  },
  {
   "cell_type": "code",
   "execution_count": 134,
   "id": "8c3296fc",
   "metadata": {},
   "outputs": [
    {
     "name": "stdout",
     "output_type": "stream",
     "text": [
      "Model over-estimated severity of cognitive problems: 16\n",
      "Model under-estimated severity of cognitive problems: 15\n",
      "Model was way off (total miss): 0\n"
     ]
    }
   ],
   "source": [
    "print('Model over-estimated severity of cognitive problems:', over_estimate)\n",
    "print('Model under-estimated severity of cognitive problems:', under_estimate)\n",
    "print('Model was way off (total miss):', total_miss)"
   ]
  },
  {
   "cell_type": "code",
   "execution_count": null,
   "id": "fe934813",
   "metadata": {},
   "outputs": [],
   "source": []
  }
 ],
 "metadata": {
  "kernelspec": {
   "display_name": "Python 3",
   "language": "python",
   "name": "python3"
  },
  "language_info": {
   "codemirror_mode": {
    "name": "ipython",
    "version": 3
   },
   "file_extension": ".py",
   "mimetype": "text/x-python",
   "name": "python",
   "nbconvert_exporter": "python",
   "pygments_lexer": "ipython3",
   "version": "3.8.8"
  }
 },
 "nbformat": 4,
 "nbformat_minor": 5
}
